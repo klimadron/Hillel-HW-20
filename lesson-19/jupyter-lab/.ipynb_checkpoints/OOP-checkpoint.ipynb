{
 "cells": [
  {
   "cell_type": "code",
   "execution_count": 1,
   "id": "179ab0f0-c713-43eb-bdc2-f1cb33481cfd",
   "metadata": {
    "tags": []
   },
   "outputs": [
    {
     "name": "stdout",
     "output_type": "stream",
     "text": [
      "asd\n",
      "123\n",
      "[1, 2, 3]\n"
     ]
    }
   ],
   "source": [
    "print(\"asd\")\n",
    "print(123)\n",
    "print([1, 2, 3])"
   ]
  },
  {
   "cell_type": "code",
   "execution_count": 3,
   "id": "9236d642-dbf4-4736-bfa9-394619ecdf99",
   "metadata": {
    "tags": []
   },
   "outputs": [
    {
     "name": "stdout",
     "output_type": "stream",
     "text": [
      "<class '__main__.MyClass'>\n"
     ]
    }
   ],
   "source": [
    "class MyClass:\n",
    "    pass\n",
    "\n",
    "x = MyClass()\n",
    "print(type(x))"
   ]
  },
  {
   "cell_type": "code",
   "execution_count": 4,
   "id": "5d702bcd-f6d6-479d-a78a-b21c2884bf6d",
   "metadata": {
    "tags": []
   },
   "outputs": [],
   "source": [
    "class Rectangle:\n",
    "    sideA: int\n",
    "    sideB: int\n",
    "    \n",
    "    def area(self):\n",
    "        return self.sideA * self.sideB\n",
    "\n",
    "    def perimeter(self):\n",
    "        return 2 * (self.sideA + self.sideB)"
   ]
  },
  {
   "cell_type": "code",
   "execution_count": null,
   "id": "52efdf9e-fa6b-4a1c-82f6-dfeb6fdecb71",
   "metadata": {},
   "outputs": [],
   "source": [
    "r1 = Rectangle()\n",
    "r1"
   ]
  },
  {
   "cell_type": "code",
   "execution_count": null,
   "id": "0e032744-f3dc-4133-90c0-00f0d1d0b50a",
   "metadata": {},
   "outputs": [],
   "source": []
  }
 ],
 "metadata": {
  "kernelspec": {
   "display_name": "Python 3 (ipykernel)",
   "language": "python",
   "name": "python3"
  },
  "language_info": {
   "codemirror_mode": {
    "name": "ipython",
    "version": 3
   },
   "file_extension": ".py",
   "mimetype": "text/x-python",
   "name": "python",
   "nbconvert_exporter": "python",
   "pygments_lexer": "ipython3",
   "version": "3.10.10"
  }
 },
 "nbformat": 4,
 "nbformat_minor": 5
}
