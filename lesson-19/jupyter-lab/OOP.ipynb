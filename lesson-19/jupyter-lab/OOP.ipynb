{
 "cells": [
  {
   "cell_type": "code",
   "execution_count": 1,
   "id": "179ab0f0-c713-43eb-bdc2-f1cb33481cfd",
   "metadata": {
    "tags": []
   },
   "outputs": [
    {
     "name": "stdout",
     "output_type": "stream",
     "text": [
      "asd\n",
      "123\n",
      "[1, 2, 3]\n"
     ]
    }
   ],
   "source": [
    "print(\"asd\")\n",
    "print(123)\n",
    "print([1, 2, 3])"
   ]
  },
  {
   "cell_type": "code",
   "execution_count": 3,
   "id": "9236d642-dbf4-4736-bfa9-394619ecdf99",
   "metadata": {
    "tags": []
   },
   "outputs": [
    {
     "name": "stdout",
     "output_type": "stream",
     "text": [
      "<class '__main__.MyClass'>\n"
     ]
    }
   ],
   "source": [
    "class MyClass:\n",
    "    pass\n",
    "\n",
    "x = MyClass()\n",
    "print(type(x))"
   ]
  },
  {
   "cell_type": "code",
   "execution_count": 18,
   "id": "5d702bcd-f6d6-479d-a78a-b21c2884bf6d",
   "metadata": {
    "tags": []
   },
   "outputs": [],
   "source": [
    "class Rectangle:\n",
    "    sideA: int\n",
    "    sideB: int\n",
    "    \n",
    "    def __init__(self, sideA, sideB=None):\n",
    "        self.sideA = sideA\n",
    "        self.sideB = sideB\n",
    "        if sideB is None:\n",
    "            self.sideB = sideA\n",
    "        print(\"Hello from constructor!\")\n",
    "    \n",
    "    def area(self):\n",
    "        return self.sideA * self.sideB\n",
    "\n",
    "    def perimeter(self):\n",
    "        return 2 * (self.sideA + self.sideB)\n",
    "    \n",
    "    def __str__(self):\n",
    "        ifself.sideA == self.sideB:\n",
    "            return f\"I am a Square with a side of {self.sideA}!\"\n",
    "        return f\"I am a Rectangle with sides of {self.sideA}, {self.sideB}!\""
   ]
  },
  {
   "cell_type": "code",
   "execution_count": 20,
   "id": "52efdf9e-fa6b-4a1c-82f6-dfeb6fdecb71",
   "metadata": {
    "tags": []
   },
   "outputs": [
    {
     "name": "stdout",
     "output_type": "stream",
     "text": [
      "Hello from constructor!\n",
      "Area: 150, Perimeter: 50\n",
      "['__annotations__', '__class__', '__delattr__', '__dict__', '__dir__', '__doc__', '__eq__', '__format__', '__ge__', '__getattribute__', '__gt__', '__hash__', '__init__', '__init_subclass__', '__le__', '__lt__', '__module__', '__ne__', '__new__', '__reduce__', '__reduce_ex__', '__repr__', '__setattr__', '__sizeof__', '__str__', '__subclasshook__', '__weakref__', 'area', 'perimeter', 'sideA', 'sideB']\n",
      "I am a Rectangle with sides of 10, 15!\n",
      "Hello from constructor!\n",
      "Area: 100, Perimeter: 40\n",
      "I am a Square with a side of 10!\n"
     ]
    }
   ],
   "source": [
    "r1 = Rectangle(10, 15)\n",
    "print(f\"Area: {r1.area()}, Perimeter: {r1.perimeter()}\")\n",
    "\n",
    "print(dir(r1))\n",
    "print(r1)\n",
    "\n",
    "square = Rectangle(10)\n",
    "print(f\"Area: {square.area()}, Perimeter: {square.perimeter()}\")\n",
    "print(square)"
   ]
  },
  {
   "cell_type": "code",
   "execution_count": 24,
   "id": "0e032744-f3dc-4133-90c0-00f0d1d0b50a",
   "metadata": {
    "tags": []
   },
   "outputs": [],
   "source": [
    "class Rect:\n",
    "    sideA: int\n",
    "    sideB: int\n",
    "    \n",
    "    def __init__(self, sideA, sideB):\n",
    "        self.sideA = sideA\n",
    "        self.sideB = sideB\n",
    "    \n",
    "    def area(self):\n",
    "        return self.sideA * self.sideB\n",
    "\n",
    "    def perimeter(self):\n",
    "        return 2 * (self.sideA + self.sideB)\n",
    "    \n",
    "    def __str__(self):\n",
    "        return f\"I have sides of {self.sideA}, {self.sideB}!\"\n",
    "\n",
    "class Square(Rect):\n",
    "    def __init__(self, side):\n",
    "        super(Square, self).__init__(side, side)\n",
    "    \n",
    "    def __str__(self):\n",
    "        return f\"I am a Square with a side of {self.sideA}!\""
   ]
  },
  {
   "cell_type": "code",
   "execution_count": 26,
   "id": "19559746-3fe8-4899-83b0-c61a6063ab53",
   "metadata": {
    "tags": []
   },
   "outputs": [
    {
     "name": "stdout",
     "output_type": "stream",
     "text": [
      "20 25\n"
     ]
    }
   ],
   "source": [
    "s = Square(5)\n",
    "print(s.perimeter(), s.area())"
   ]
  },
  {
   "cell_type": "code",
   "execution_count": 33,
   "id": "1243de04-c2f5-42a1-b317-258409a1217f",
   "metadata": {
    "tags": []
   },
   "outputs": [
    {
     "data": {
      "text/plain": [
       "[132, 25, 64, 64]"
      ]
     },
     "execution_count": 33,
     "metadata": {},
     "output_type": "execute_result"
    }
   ],
   "source": [
    "def calculateArea(figList):\n",
    "    return list(map(lambda fig: fig.area(), figList))\n",
    "\n",
    "calculateArea([\n",
    "  Rect(11, 12),\n",
    "  Square(5),\n",
    "  Square(8),\n",
    "  Rect(16, 4),\n",
    "])"
   ]
  },
  {
   "cell_type": "code",
   "execution_count": null,
   "id": "a7565bd1-7e83-4e3f-b3f4-b3ca6efdee0e",
   "metadata": {},
   "outputs": [],
   "source": []
  }
 ],
 "metadata": {
  "kernelspec": {
   "display_name": "Python 3 (ipykernel)",
   "language": "python",
   "name": "python3"
  },
  "language_info": {
   "codemirror_mode": {
    "name": "ipython",
    "version": 3
   },
   "file_extension": ".py",
   "mimetype": "text/x-python",
   "name": "python",
   "nbconvert_exporter": "python",
   "pygments_lexer": "ipython3",
   "version": "3.10.10"
  }
 },
 "nbformat": 4,
 "nbformat_minor": 5
}
