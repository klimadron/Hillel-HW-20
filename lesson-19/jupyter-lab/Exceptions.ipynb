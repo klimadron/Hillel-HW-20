{
 "cells": [
  {
   "cell_type": "code",
   "execution_count": 3,
   "id": "7d881577-acbc-43e3-be80-17201a0dd3e1",
   "metadata": {
    "tags": []
   },
   "outputs": [
    {
     "name": "stdin",
     "output_type": "stream",
     "text": [
      "input a number One\n"
     ]
    },
    {
     "ename": "ValueError",
     "evalue": "invalid literal for int() with base 10: 'One'",
     "output_type": "error",
     "traceback": [
      "\u001b[0;31m---------------------------------------------------------------------------\u001b[0m",
      "\u001b[0;31mValueError\u001b[0m                                Traceback (most recent call last)",
      "Cell \u001b[0;32mIn[3], line 1\u001b[0m\n\u001b[0;32m----> 1\u001b[0m \u001b[38;5;28;43mint\u001b[39;49m\u001b[43m(\u001b[49m\u001b[38;5;28;43minput\u001b[39;49m\u001b[43m(\u001b[49m\u001b[38;5;124;43m\"\u001b[39;49m\u001b[38;5;124;43minput a number\u001b[39;49m\u001b[38;5;124;43m\"\u001b[39;49m\u001b[43m)\u001b[49m\u001b[43m)\u001b[49m\n",
      "\u001b[0;31mValueError\u001b[0m: invalid literal for int() with base 10: 'One'"
     ]
    }
   ],
   "source": [
    "int(input(\"input a number\"))"
   ]
  },
  {
   "cell_type": "code",
   "execution_count": 4,
   "id": "2156b5a3-2902-4baa-9480-bf88fe104400",
   "metadata": {
    "tags": []
   },
   "outputs": [
    {
     "ename": "KeyError",
     "evalue": "'prod'",
     "output_type": "error",
     "traceback": [
      "\u001b[0;31m---------------------------------------------------------------------------\u001b[0m",
      "\u001b[0;31mKeyError\u001b[0m                                  Traceback (most recent call last)",
      "Cell \u001b[0;32mIn[4], line 2\u001b[0m\n\u001b[1;32m      1\u001b[0m x \u001b[38;5;241m=\u001b[39m \u001b[38;5;28mdict\u001b[39m(key\u001b[38;5;241m=\u001b[39m\u001b[38;5;124m\"\u001b[39m\u001b[38;5;124mvalue\u001b[39m\u001b[38;5;124m\"\u001b[39m, test\u001b[38;5;241m=\u001b[39m\u001b[38;5;28;01mTrue\u001b[39;00m)\n\u001b[0;32m----> 2\u001b[0m \u001b[43mx\u001b[49m\u001b[43m[\u001b[49m\u001b[38;5;124;43m\"\u001b[39;49m\u001b[38;5;124;43mprod\u001b[39;49m\u001b[38;5;124;43m\"\u001b[39;49m\u001b[43m]\u001b[49m\n",
      "\u001b[0;31mKeyError\u001b[0m: 'prod'"
     ]
    }
   ],
   "source": [
    "x = dict(key=\"value\", test=True)\n",
    "x[\"prod\"]"
   ]
  },
  {
   "cell_type": "code",
   "execution_count": 50,
   "id": "e496e691-fbd6-40a3-92f8-d5a11c06a2c0",
   "metadata": {
    "tags": []
   },
   "outputs": [],
   "source": [
    "def some_func():\n",
    "    try:\n",
    "        requests.get(\"http://test-google.example.com.ua\")\n",
    "    except requests.ConnectionError as c_err:\n",
    "        print(\"I've found a ConnectionError!\")\n",
    "        print(type(c_err))\n",
    "        print(c_err.args)\n",
    "        print(dir(c_err))\n",
    "        raise ValueError(\"qwe\", \"asd\", 123)\n",
    "    except ValueError as err:\n",
    "        print(\"I have found an error: \", err)"
   ]
  },
  {
   "cell_type": "code",
   "execution_count": 51,
   "id": "e2dd8bf6-c507-411a-b195-18e23fb7c3ac",
   "metadata": {
    "tags": []
   },
   "outputs": [
    {
     "name": "stdout",
     "output_type": "stream",
     "text": [
      "I've found a ConnectionError!\n",
      "<class 'requests.exceptions.ConnectionError'>\n",
      "(MaxRetryError(\"HTTPConnectionPool(host='test-google.example.com.ua', port=80): Max retries exceeded with url: / (Caused by NewConnectionError('<urllib3.connection.HTTPConnection object at 0x7f5477023070>: Failed to establish a new connection: [Errno -2] Name or service not known'))\"),)\n",
      "['__cause__', '__class__', '__context__', '__delattr__', '__dict__', '__dir__', '__doc__', '__eq__', '__format__', '__ge__', '__getattribute__', '__gt__', '__hash__', '__init__', '__init_subclass__', '__le__', '__lt__', '__module__', '__ne__', '__new__', '__reduce__', '__reduce_ex__', '__repr__', '__setattr__', '__setstate__', '__sizeof__', '__str__', '__subclasshook__', '__suppress_context__', '__traceback__', '__weakref__', 'args', 'characters_written', 'errno', 'filename', 'filename2', 'request', 'response', 'strerror', 'with_traceback']\n",
      "got inner error ('qwe', 'asd', 123)\n",
      "I work 100% of the time\n"
     ]
    }
   ],
   "source": [
    "import requests\n",
    "\n",
    "try:\n",
    "    some_func()\n",
    "except Exception as err:\n",
    "    print(\"got inner error\", err)\n",
    "        \n",
    "print(\"I work 100% of the time\")"
   ]
  },
  {
   "cell_type": "code",
   "execution_count": 36,
   "id": "0c4ea7c4-ba15-43c0-b002-374d225dfdb9",
   "metadata": {
    "tags": []
   },
   "outputs": [
    {
     "name": "stdout",
     "output_type": "stream",
     "text": [
      "Try\n",
      "Else\n",
      "Finally\n"
     ]
    }
   ],
   "source": [
    "try:\n",
    "    print(\"Try\")\n",
    "except:\n",
    "    print(\"Except\")\n",
    "else:\n",
    "    print(\"Else\")\n",
    "finally:\n",
    "    print(\"Finally\")"
   ]
  },
  {
   "cell_type": "code",
   "execution_count": null,
   "id": "7de94a1f-05d3-4f4e-8d2d-bc6217748a12",
   "metadata": {},
   "outputs": [],
   "source": []
  }
 ],
 "metadata": {
  "kernelspec": {
   "display_name": "Python 3 (ipykernel)",
   "language": "python",
   "name": "python3"
  },
  "language_info": {
   "codemirror_mode": {
    "name": "ipython",
    "version": 3
   },
   "file_extension": ".py",
   "mimetype": "text/x-python",
   "name": "python",
   "nbconvert_exporter": "python",
   "pygments_lexer": "ipython3",
   "version": "3.10.10"
  }
 },
 "nbformat": 4,
 "nbformat_minor": 5
}
