{
 "cells": [
  {
   "cell_type": "code",
   "execution_count": 12,
   "id": "46a23c02-eeb4-4f41-8b56-a78832feb423",
   "metadata": {
    "tags": []
   },
   "outputs": [
    {
     "name": "stdout",
     "output_type": "stream",
     "text": [
      "5 Sleeping for 2 seconds, pid:  7809\n",
      "Exiting thread!\n",
      "5 Sleeping for 2 seconds, pid:  7809\n",
      "Exiting thread!\n",
      "Done!\n"
     ]
    }
   ],
   "source": [
    "import threading\n",
    "import time\n",
    "import os\n",
    "\n",
    "def func(num):\n",
    "    print(num, \"Sleeping for 2 seconds, pid: \", os.getpid())\n",
    "    time.sleep(2)\n",
    "    print(\"Exiting thread!\")\n",
    "\n",
    "num = 5\n",
    "t1 = threading.Thread(target=func, args=(num,))\n",
    "t2 = threading.Thread(target=func, args=(num,))\n",
    "t1.start()\n",
    "t1.join()\n",
    "t2.start()\n",
    "t2.join()\n",
    "\n",
    "print(\"Done!\")"
   ]
  },
  {
   "cell_type": "code",
   "execution_count": 11,
   "id": "c12a2b9d-a582-4624-84aa-f801fa0200e8",
   "metadata": {
    "tags": []
   },
   "outputs": [
    {
     "name": "stdout",
     "output_type": "stream",
     "text": [
      "5 Sleeping for 2 seconds, pid:  8725\n",
      "Exiting thread!\n",
      "5 Sleeping for 2 seconds, pid:  8743\n",
      "Exiting thread!\n",
      "Done!\n"
     ]
    }
   ],
   "source": [
    "import multiprocessing\n",
    "import time\n",
    "import os\n",
    "\n",
    "def func(num):\n",
    "    print(num, \"Sleeping for 2 seconds, pid: \", os.getpid())\n",
    "    time.sleep(2)\n",
    "    print(\"Exiting thread!\")\n",
    "\n",
    "num = 5\n",
    "p1 = multiprocessing.Process(target=func, args=(num,))\n",
    "p2 = multiprocessing.Process(target=func, args=(num,))\n",
    "p1.start()\n",
    "p1.join()\n",
    "p2.start()\n",
    "p2.join()\n",
    "\n",
    "print(\"Done!\")"
   ]
  },
  {
   "cell_type": "code",
   "execution_count": 15,
   "id": "39e92e11-2a62-42f0-ab89-a113a10083db",
   "metadata": {
    "tags": []
   },
   "outputs": [
    {
     "name": "stdout",
     "output_type": "stream",
     "text": [
      "0 Sleeping for 2 seconds, pid:  7809\n",
      "1 Sleeping for 2 seconds, pid:  7809\n",
      "2 Sleeping for 2 seconds, pid:  7809\n",
      "3 Sleeping for 2 seconds, pid:  7809\n",
      "Exiting thread!\n",
      "4 Sleeping for 2 seconds, pid:  7809\n",
      "Exiting thread!\n",
      "5 Sleeping for 2 seconds, pid:  7809\n",
      "Exiting thread!\n",
      "6 Sleeping for 2 seconds, pid:  7809\n",
      "Exiting thread!\n",
      "7 Sleeping for 2 seconds, pid:  7809\n",
      "Exiting thread!\n",
      "8 Sleeping for 2 seconds, pid:  7809\n",
      "Exiting thread!\n",
      "9 Sleeping for 2 seconds, pid:  7809\n",
      "Exiting thread!\n",
      "Exiting thread!\n",
      "Exiting thread!\n",
      "Exiting thread!\n",
      "Done\n"
     ]
    }
   ],
   "source": [
    "from concurrent.futures import ThreadPoolExecutor, as_completed\n",
    "\n",
    "e = ThreadPoolExecutor(4)\n",
    "futures = []\n",
    "for i in range(10):\n",
    "    futures.append(e.submit(func, i))\n",
    "\n",
    "for f in as_completed(futures):\n",
    "    pass\n",
    "\n",
    "print(\"Done\")\n"
   ]
  },
  {
   "cell_type": "code",
   "execution_count": null,
   "id": "8cfabc74-b1c3-47df-93ff-d6b12aaa4f14",
   "metadata": {},
   "outputs": [],
   "source": []
  }
 ],
 "metadata": {
  "kernelspec": {
   "display_name": "Python 3 (ipykernel)",
   "language": "python",
   "name": "python3"
  },
  "language_info": {
   "codemirror_mode": {
    "name": "ipython",
    "version": 3
   },
   "file_extension": ".py",
   "mimetype": "text/x-python",
   "name": "python",
   "nbconvert_exporter": "python",
   "pygments_lexer": "ipython3",
   "version": "3.10.10"
  }
 },
 "nbformat": 4,
 "nbformat_minor": 5
}
